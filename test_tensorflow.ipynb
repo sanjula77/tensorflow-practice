{
 "cells": [
  {
   "cell_type": "code",
   "execution_count": 4,
   "id": "64fdf69b",
   "metadata": {},
   "outputs": [
    {
     "name": "stdout",
     "output_type": "stream",
     "text": [
      "2.10.0\n"
     ]
    }
   ],
   "source": [
    "import tensorflow as tf\n",
    "print(tf.__version__)"
   ]
  },
  {
   "cell_type": "code",
   "execution_count": 16,
   "id": "8e081b8e",
   "metadata": {},
   "outputs": [
    {
     "name": "stdout",
     "output_type": "stream",
     "text": [
      "new_value: 5\n",
      "updated zero: 5\n"
     ]
    }
   ],
   "source": [
    "import tensorflow as tf\n",
    "\n",
    "# Create a variable with initial value 1\n",
    "zero = tf.Variable(1)\n",
    "\n",
    "# Create a constant with value 4\n",
    "one = tf.constant(4)\n",
    "\n",
    "# Add them\n",
    "new_value = tf.add(zero, one)\n",
    "print(\"new_value:\", new_value.numpy())  # .numpy() to get the value\n",
    "\n",
    "# Update the variable with the new value\n",
    "zero.assign(new_value)\n",
    "print(\"updated zero:\", zero.numpy())\n"
   ]
  },
  {
   "cell_type": "code",
   "execution_count": 20,
   "id": "8465adb2",
   "metadata": {},
   "outputs": [
    {
     "name": "stdout",
     "output_type": "stream",
     "text": [
      "Result of addition: 5\n"
     ]
    }
   ],
   "source": [
    "import tensorflow as tf\n",
    "\n",
    "a = tf.constant(2)\n",
    "b = tf.constant(3)\n",
    "\n",
    "result = tf.add(a, b)\n",
    "print(\"Result of addition:\", result.numpy())"
   ]
  },
  {
   "cell_type": "code",
   "execution_count": 23,
   "id": "dce6204c",
   "metadata": {},
   "outputs": [
    {
     "name": "stdout",
     "output_type": "stream",
     "text": [
      "Constant:\n",
      " tf.Tensor(\n",
      "[[1. 2.]\n",
      " [3. 4.]], shape=(2, 2), dtype=float32)\n",
      "\n",
      "Variable:\n",
      " <tf.Variable 'Variable:0' shape=(2, 2) dtype=float32, numpy=\n",
      "array([[5., 6.],\n",
      "       [7., 8.]], dtype=float32)>\n",
      "\n",
      "Shape of a: (2, 2)\n",
      "Data type of a: <dtype: 'float32'>\n"
     ]
    }
   ],
   "source": [
    "import tensorflow as tf\n",
    "\n",
    "# Constant tensor\n",
    "a = tf.constant([[1, 2], [3, 4]], dtype=tf.float32)\n",
    "print(\"Constant:\\n\", a)\n",
    "\n",
    "print()\n",
    "\n",
    "# Variable tensor\n",
    "b = tf.Variable([[5, 6], [7, 8]], dtype=tf.float32)\n",
    "print(\"Variable:\\n\", b)\n",
    "\n",
    "print()\n",
    "\n",
    "# Shape and type\n",
    "print(\"Shape of a:\", a.shape)\n",
    "print(\"Data type of a:\", a.dtype)\n"
   ]
  },
  {
   "cell_type": "code",
   "execution_count": 25,
   "id": "87b20b89",
   "metadata": {},
   "outputs": [
    {
     "name": "stdout",
     "output_type": "stream",
     "text": [
      "Addition: [5 7 9]\n",
      "\n",
      "Multiplication: [ 4 10 18]\n",
      "\n",
      "Broadcast result:\n",
      " tf.Tensor(\n",
      "[[5 6]\n",
      " [6 7]\n",
      " [7 8]], shape=(3, 2), dtype=int32)\n"
     ]
    }
   ],
   "source": [
    "x = tf.constant([1, 2, 3])\n",
    "y = tf.constant([4, 5, 6])\n",
    "\n",
    "# Element-wise addition\n",
    "z = tf.add(x, y)\n",
    "print(\"Addition:\", z.numpy())\n",
    "\n",
    "print()\n",
    "\n",
    "# Element-wise multiplication\n",
    "m = tf.multiply(x, y)\n",
    "print(\"Multiplication:\", m.numpy())\n",
    "\n",
    "print()\n",
    "\n",
    "# Broadcasting\n",
    "a = tf.constant([[1], [2], [3]])  # Shape: (3,1)\n",
    "b = tf.constant([4, 5])           # Shape: (2,)\n",
    "print(\"Broadcast result:\\n\", tf.add(a, b))  # Shape becomes (3,2)\n"
   ]
  },
  {
   "cell_type": "code",
   "execution_count": 26,
   "id": "6af7190a",
   "metadata": {},
   "outputs": [
    {
     "name": "stdout",
     "output_type": "stream",
     "text": [
      "Eager result: [4. 6.]\n"
     ]
    }
   ],
   "source": [
    "# Simple immediate operation\n",
    "x = tf.constant([1.0, 2.0])\n",
    "y = tf.constant([3.0, 4.0])\n",
    "z = x + y  # Runs immediately\n",
    "print(\"Eager result:\", z.numpy())\n"
   ]
  },
  {
   "cell_type": "code",
   "execution_count": 27,
   "id": "ed05e96c",
   "metadata": {},
   "outputs": [
    {
     "name": "stdout",
     "output_type": "stream",
     "text": [
      "Graph execution result: tf.Tensor([14. 23.], shape=(2,), dtype=float32)\n"
     ]
    }
   ],
   "source": [
    "@tf.function\n",
    "def compute(x, y):\n",
    "    return tf.multiply(x, y) + tf.add(x, y)\n",
    "\n",
    "x = tf.constant([2.0, 3.0])\n",
    "y = tf.constant([4.0, 5.0])\n",
    "print(\"Graph execution result:\", compute(x, y))\n",
    "\n",
    "# Graph execution is optimized, runs faster, and is useful for production.\n",
    "# You convert Python code to a TensorFlow graph using @tf.function.\n",
    "\n",
    "# Behind the scenes, TensorFlow builds a computation graph for compute() for better performance."
   ]
  },
  {
   "cell_type": "code",
   "execution_count": 28,
   "id": "b48c2485",
   "metadata": {},
   "outputs": [
    {
     "name": "stdout",
     "output_type": "stream",
     "text": [
      "Gradient (dy/dx): 8.0\n"
     ]
    }
   ],
   "source": [
    "x = tf.Variable(3.0)\n",
    "\n",
    "with tf.GradientTape() as tape:\n",
    "    y = x ** 2 + 2 * x + 1  # y = x^2 + 2x + 1\n",
    "\n",
    "# Compute dy/dx\n",
    "dy_dx = tape.gradient(y, x)\n",
    "print(\"Gradient (dy/dx):\", dy_dx.numpy())  # Should be 2x + 2 = 8 when x=3"
   ]
  }
 ],
 "metadata": {
  "kernelspec": {
   "display_name": "tf_env",
   "language": "python",
   "name": "python3"
  },
  "language_info": {
   "codemirror_mode": {
    "name": "ipython",
    "version": 3
   },
   "file_extension": ".py",
   "mimetype": "text/x-python",
   "name": "python",
   "nbconvert_exporter": "python",
   "pygments_lexer": "ipython3",
   "version": "3.10.13"
  }
 },
 "nbformat": 4,
 "nbformat_minor": 5
}
