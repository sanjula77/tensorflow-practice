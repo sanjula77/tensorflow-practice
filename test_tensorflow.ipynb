{
 "cells": [
  {
   "cell_type": "code",
   "execution_count": 1,
   "id": "64fdf69b",
   "metadata": {},
   "outputs": [
    {
     "name": "stdout",
     "output_type": "stream",
     "text": [
      "2.10.0\n"
     ]
    }
   ],
   "source": [
    "import tensorflow as tf\n",
    "print(tf.__version__)"
   ]
  },
  {
   "cell_type": "code",
   "execution_count": 4,
   "id": "8e081b8e",
   "metadata": {},
   "outputs": [
    {
     "name": "stdout",
     "output_type": "stream",
     "text": [
      "tf.Tensor([ 7  9 11 13 15], shape=(5,), dtype=int32)\n",
      "tf.Tensor([ 6 14 24 36 50], shape=(5,), dtype=int32)\n"
     ]
    }
   ],
   "source": [
    "import tensorflow as tf\n",
    "\n",
    "a = tf.constant([1, 2, 3, 4, 5])\n",
    "b = tf.constant([6, 7, 8, 9, 10])\n",
    "\n",
    "c = tf.add(a, b)\n",
    "d = tf.multiply(a, b)\n",
    "\n",
    "print(c)\n",
    "print(d)"
   ]
  },
  {
   "cell_type": "code",
   "execution_count": null,
   "id": "12767204",
   "metadata": {},
   "outputs": [
    {
     "name": "stdout",
     "output_type": "stream",
     "text": [
      "tf.Tensor(\n",
      "[[-0.26104233  0.7397498   1.2324532 ]\n",
      " [ 1.3516948   1.794302   -0.8276496 ]], shape=(2, 3), dtype=float32)\n",
      "\n",
      "tf.Tensor(\n",
      "[[0.4292227  0.39740944 0.6240401 ]\n",
      " [0.05455685 0.09075594 0.0459131 ]], shape=(2, 3), dtype=float32)\n"
     ]
    }
   ],
   "source": [
    "import tensorflow as tf\n",
    "\n",
    "random_normal = tf.random.normal([2, 3], mean=0.0, stddev=1.0)\n",
    "print(random_normal)\n",
    "\n",
    "print()\n",
    "\n",
    "random_uniform = tf.random.uniform([2, 3], minval=0, maxval=1)\n",
    "print(random_uniform)"
   ]
  },
  {
   "cell_type": "code",
   "execution_count": 12,
   "id": "b844a640",
   "metadata": {},
   "outputs": [
    {
     "name": "stdout",
     "output_type": "stream",
     "text": [
      "tf.Tensor(\n",
      "[[1 2 3]\n",
      " [4 5 6]], shape=(2, 3), dtype=int32)\n",
      "\n",
      "tf.Tensor(\n",
      "[[1 2]\n",
      " [3 4]\n",
      " [5 6]], shape=(3, 2), dtype=int32)\n",
      "\n",
      "tf.Tensor(\n",
      "[[2 3]\n",
      " [5 6]], shape=(2, 2), dtype=int32)\n"
     ]
    }
   ],
   "source": [
    "import tensorflow as tf\n",
    "\n",
    "# Original tensor\n",
    "original_tensor = tf.constant([[1, 2, 3], [4, 5, 6]])\n",
    "print(original_tensor)\n",
    "\n",
    "print()\n",
    "\n",
    "# Reshape the tensor to a different shape\n",
    "reshaped_tensor = tf.reshape(original_tensor, [3, 2])\n",
    "print(reshaped_tensor)\n",
    "\n",
    "print()\n",
    "\n",
    "# slice the tensor\n",
    "sliced_tensor = tf.slice(original_tensor, [0, 1], [2, 2])\n",
    "print(sliced_tensor)"
   ]
  }
 ],
 "metadata": {
  "kernelspec": {
   "display_name": "tf_env",
   "language": "python",
   "name": "python3"
  },
  "language_info": {
   "codemirror_mode": {
    "name": "ipython",
    "version": 3
   },
   "file_extension": ".py",
   "mimetype": "text/x-python",
   "name": "python",
   "nbconvert_exporter": "python",
   "pygments_lexer": "ipython3",
   "version": "3.10.13"
  }
 },
 "nbformat": 4,
 "nbformat_minor": 5
}
