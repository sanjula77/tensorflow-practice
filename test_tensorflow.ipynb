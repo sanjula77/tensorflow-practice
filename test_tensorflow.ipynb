{
 "cells": [
  {
   "cell_type": "code",
   "execution_count": 4,
   "id": "64fdf69b",
   "metadata": {},
   "outputs": [
    {
     "name": "stdout",
     "output_type": "stream",
     "text": [
      "2.10.0\n"
     ]
    }
   ],
   "source": [
    "import tensorflow as tf\n",
    "print(tf.__version__)"
   ]
  },
  {
   "cell_type": "code",
   "execution_count": 16,
   "id": "8e081b8e",
   "metadata": {},
   "outputs": [
    {
     "name": "stdout",
     "output_type": "stream",
     "text": [
      "new_value: 5\n",
      "updated zero: 5\n"
     ]
    }
   ],
   "source": [
    "import tensorflow as tf\n",
    "\n",
    "# Create a variable with initial value 1\n",
    "zero = tf.Variable(1)\n",
    "\n",
    "# Create a constant with value 4\n",
    "one = tf.constant(4)\n",
    "\n",
    "# Add them\n",
    "new_value = tf.add(zero, one)\n",
    "print(\"new_value:\", new_value.numpy())  # .numpy() to get the value\n",
    "\n",
    "# Update the variable with the new value\n",
    "zero.assign(new_value)\n",
    "print(\"updated zero:\", zero.numpy())\n"
   ]
  }
 ],
 "metadata": {
  "kernelspec": {
   "display_name": "tf_env",
   "language": "python",
   "name": "python3"
  },
  "language_info": {
   "codemirror_mode": {
    "name": "ipython",
    "version": 3
   },
   "file_extension": ".py",
   "mimetype": "text/x-python",
   "name": "python",
   "nbconvert_exporter": "python",
   "pygments_lexer": "ipython3",
   "version": "3.10.13"
  }
 },
 "nbformat": 4,
 "nbformat_minor": 5
}
