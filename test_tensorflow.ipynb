{
 "cells": [
  {
   "cell_type": "code",
   "execution_count": 1,
   "id": "64fdf69b",
   "metadata": {},
   "outputs": [
    {
     "name": "stdout",
     "output_type": "stream",
     "text": [
      "2.10.0\n"
     ]
    }
   ],
   "source": [
    "import tensorflow as tf\n",
    "print(tf.__version__)"
   ]
  },
  {
   "cell_type": "code",
   "execution_count": 4,
   "id": "8e081b8e",
   "metadata": {},
   "outputs": [
    {
     "name": "stdout",
     "output_type": "stream",
     "text": [
      "tf.Tensor([ 7  9 11 13 15], shape=(5,), dtype=int32)\n",
      "tf.Tensor([ 6 14 24 36 50], shape=(5,), dtype=int32)\n"
     ]
    }
   ],
   "source": [
    "import tensorflow as tf\n",
    "\n",
    "a = tf.constant([1, 2, 3, 4, 5])\n",
    "b = tf.constant([6, 7, 8, 9, 10])\n",
    "\n",
    "c = tf.add(a, b)\n",
    "d = tf.multiply(a, b)\n",
    "\n",
    "print(c)\n",
    "print(d)"
   ]
  },
  {
   "cell_type": "code",
   "execution_count": 5,
   "id": "12767204",
   "metadata": {},
   "outputs": [
    {
     "name": "stdout",
     "output_type": "stream",
     "text": [
      "tf.Tensor(\n",
      "[[ 1.1915033   1.0459775  -1.6179084 ]\n",
      " [-0.63551646 -1.5098503   0.02186147]], shape=(2, 3), dtype=float32)\n",
      "tf.Tensor(\n",
      "[[0.89497983 0.4174677  0.8754375 ]\n",
      " [0.35161197 0.43895936 0.3010589 ]], shape=(2, 3), dtype=float32)\n"
     ]
    }
   ],
   "source": [
    "import tensorflow as tf\n",
    "\n",
    "random_normal = tf.random.normal([2, 3], mean=0.0, stddev=1.0)\n",
    "print(random_normal)\n",
    "\n",
    "random_uniform = tf.random.uniform([2, 3], minval=0, maxval=1)\n",
    "print(random_uniform)"
   ]
  },
  {
   "cell_type": "code",
   "execution_count": null,
   "id": "1964d30d",
   "metadata": {},
   "outputs": [],
   "source": []
  }
 ],
 "metadata": {
  "kernelspec": {
   "display_name": "tf_env",
   "language": "python",
   "name": "python3"
  },
  "language_info": {
   "codemirror_mode": {
    "name": "ipython",
    "version": 3
   },
   "file_extension": ".py",
   "mimetype": "text/x-python",
   "name": "python",
   "nbconvert_exporter": "python",
   "pygments_lexer": "ipython3",
   "version": "3.10.13"
  }
 },
 "nbformat": 4,
 "nbformat_minor": 5
}
